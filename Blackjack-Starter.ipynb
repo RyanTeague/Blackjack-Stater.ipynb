{
 "cells": [
  {
   "cell_type": "markdown",
   "metadata": {},
   "source": [
    "## Python Blackjack\n",
    "For this project you will make a Blackjack game using Python. Click <a href=\"http://www.hitorstand.net/strategy.php\">here</a> to familiarize yourself with the the rules of the game. You won't be implementing every rule \"down to the letter\" with the game, but we will doing a simpler version of the game. This assignment will be given to further test your knowledge on object-oriented programming concepts.\n",
    "\n",
    "### Rules:\n",
    "\n",
    "`1. ` The game will have two players: the Dealer and the Player. The game will start off with a deck of 52 cards. The 52 cards will consist of 4 different suits: Clubs, Diamonds, Hearts and Spades. For each suit, there will be cards numbered 1 through 13. <br>\n",
    "**Note: No wildcards will be used in the program**\n",
    "\n",
    "`2. ` When the game begins, the dealer will shuffle the deck of cards, making them randomized. After the dealer shuffles, it will deal the player 2 cards and will deal itself 2 cards from. The Player should be able to see both of their own cards, but should only be able to see one of the Dealer's cards.\n",
    " \n",
    "`3. ` The objective of the game is for the Player to count their cards after they're dealt. If they're not satisfied with the number, they have the ability to 'Hit'. A hit allows the dealer to deal the Player one additional card. The Player can hit as many times as they'd like as long as they don't 'Bust'. A bust is when the Player is dealt cards that total more than 21.\n",
    "\n",
    "`4. ` If the dealer deals the Player cards equal to 21 on the **first** deal, the Player wins. This is referred to as Blackjack. Blackjack is **NOT** the same as getting cards that equal up to 21 after the first deal. Blackjack can only be attained on the first deal.\n",
    "\n",
    "`5. ` The Player will never see the Dealer's hand until the Player chooses to 'stand'. A Stand is when the player tells the dealer to not deal it anymore cards. Once the player chooses to Stand, the Player and the Dealer will compare their hands. Whoever has the higher number wins. Keep in mind that the Dealer can also bust. "
   ]
  },
  {
   "cell_type": "code",
   "execution_count": 36,
   "metadata": {
    "scrolled": true
   },
   "outputs": [],
   "source": [
    "import random\n",
    "\n",
    "class Card: # define the card class into individual cards\n",
    "    def __init__(self, suit, rank):\n",
    "        self.suit = suit\n",
    "        self.rank = rank\n",
    "\n",
    "    def __str__(self):\n",
    "        return f\"{self.rank} of {self.suit}\"\n",
    "    \n"
   ]
  },
  {
   "cell_type": "code",
   "execution_count": 18,
   "metadata": {},
   "outputs": [],
   "source": [
    "#Define the deck class -> showcases deck of cards \n",
    "class Deck:\n",
    "    def __init__(self):\n",
    "        suits = ['hearts', 'diamonds', 'clubs', 'spades']\n",
    "        ranks = ['two', 'three', 'four', 'five', 'six', 'seven', 'eight', '9ine', '10', 'Jack', 'queen', 'king', 'ace']\n",
    "        self.cards = [Card(suit, rank) for suit in suits for rank in ranks]\n",
    "\n",
    "\n",
    "def shuffle(self):\n",
    "        random.shuffle(self.cards)\n",
    "#the pop() method will remove the card by a spcifiyed index \n",
    "def deal_card(self):\n",
    "        return self.cards.pop()\n",
    "\n",
    "\n",
    "\n"
   ]
  },
  {
   "cell_type": "code",
   "execution_count": 26,
   "metadata": {},
   "outputs": [],
   "source": [
    "class Hand:\n",
    "    def __init__(self):\n",
    "        self.cards = [] # empty lis initialized for hands of cards\n",
    "        self.value = 0\n",
    "        self.aces = 0\n",
    "\n",
    "    def add_card(self, card):\n",
    "        self.cards.append(card)\n",
    "        self.value += self.card_value(card)\n",
    "\n",
    "    def card_value(self, card):\n",
    "        if card.rank in ['jack', 'queen', 'king']:\n",
    "            return 10\n",
    "        elif card.rank == 'ace':\n",
    "            self.aces += 1\n",
    "            return 11\n",
    "        else:\n",
    "            return int(card.rank)\n",
    "\n",
    "    def adjust_for_ace(self):\n",
    "        while self.value > 21 and self.aces:\n",
    "            self.value -= 10\n",
    "            self.aces -= 1"
   ]
  },
  {
   "cell_type": "code",
   "execution_count": 30,
   "metadata": {},
   "outputs": [],
   "source": [
    "class BlackjackGame:\n",
    "    def __init__(self):\n",
    "        self.deck = Deck()\n",
    "        self.deck.shuffle()\n",
    "        self.player_hand = Hand()\n",
    "        self.dealer_hand = Hand()\n",
    "\n",
    "    def deal_initial_cards(self):\n",
    "        for _ in range(2):\n",
    "            self.player_hand.add_card(self.deck.deal_card())\n",
    "            self.dealer_hand.add_card(self.deck.deal_card())\n",
    "\n",
    "    def hit(self, hand):\n",
    "        hand.add_card(self.deck.deal_card())\n",
    "        hand.adjust_for_ace()\n",
    "\n",
    "    "
   ]
  },
  {
   "cell_type": "code",
   "execution_count": 35,
   "metadata": {},
   "outputs": [],
   "source": [
    "def show_some(self):\n",
    "        print(\"dealer's hand:\")\n",
    "        print(\"hidden card\")\n",
    "        print(self.dealer_hand.cards[1])\n",
    "        print(\"\\nplayer's hand:\")\n",
    "        for card in self.player_hand.cards:\n",
    "            print(card)\n",
    "\n",
    "    def show_all(self):\n",
    "        print(\"dealer's hand:\")\n",
    "        for card in self.dealer_hand.cards:\n",
    "            print(card)\n",
    "        print(f\"value of dealer's hand: {self.dealer_hand.value}\\n\")\n",
    "        print(\"player's hand:\")\n",
    "        for card in self.player_hand.cards:\n",
    "            print(card)\n",
    "        print(f\"value of player's hand: {self.player_hand.value}\")"
   ]
  },
  {
   "cell_type": "code",
   "execution_count": 40,
   "metadata": {},
   "outputs": [
    {
     "ename": "NameError",
     "evalue": "name 'BlackjackGame' is not defined",
     "output_type": "error",
     "traceback": [
      "\u001b[0;31m---------------------------------------------------------------------------\u001b[0m",
      "\u001b[0;31mNameError\u001b[0m                                 Traceback (most recent call last)",
      "\u001b[1;32m/home/ryancteague7/CodingTemple/week4/day5/Blackjack-Starter.ipynb Cell 7\u001b[0m line \u001b[0;36m1\n\u001b[0;32m----> <a href='vscode-notebook-cell:/home/ryancteague7/CodingTemple/week4/day5/Blackjack-Starter.ipynb#W6sZmlsZQ%3D%3D?line=0'>1</a>\u001b[0m game \u001b[39m=\u001b[39m BlackjackGame()\n\u001b[1;32m      <a href='vscode-notebook-cell:/home/ryancteague7/CodingTemple/week4/day5/Blackjack-Starter.ipynb#W6sZmlsZQ%3D%3D?line=1'>2</a>\u001b[0m game\u001b[39m.\u001b[39mdeal_initial_cards()\n\u001b[1;32m      <a href='vscode-notebook-cell:/home/ryancteague7/CodingTemple/week4/day5/Blackjack-Starter.ipynb#W6sZmlsZQ%3D%3D?line=3'>4</a>\u001b[0m \u001b[39mwhile\u001b[39;00m \u001b[39mTrue\u001b[39;00m:\n",
      "\u001b[0;31mNameError\u001b[0m: name 'BlackjackGame' is not defined"
     ]
    }
   ],
   "source": [
    "    game = BlackjackGame()\n",
    "    game.deal_initial_cards()\n",
    "\n",
    "    while True:\n",
    "        game.show_some()\n",
    "\n",
    "        action = input(\"do you want to hit or stand? Enter 'h' or 's': \")\n",
    "\n",
    "        if action.lower() == 'h':\n",
    "            game.hit(game.player_hand)\n",
    "        elif action.lower() == 's':\n",
    "            break\n",
    "\n",
    "game.show_all()"
   ]
  }
 ],
 "metadata": {
  "kernelspec": {
   "display_name": "Python 3",
   "language": "python",
   "name": "python3"
  },
  "language_info": {
   "codemirror_mode": {
    "name": "ipython",
    "version": 3
   },
   "file_extension": ".py",
   "mimetype": "text/x-python",
   "name": "python",
   "nbconvert_exporter": "python",
   "pygments_lexer": "ipython3",
   "version": "3.9.2"
  }
 },
 "nbformat": 4,
 "nbformat_minor": 2
}
